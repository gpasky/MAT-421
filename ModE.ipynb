{
  "nbformat": 4,
  "nbformat_minor": 0,
  "metadata": {
    "colab": {
      "provenance": [],
      "authorship_tag": "ABX9TyPJ/OpTyG7saAiN7quazZBv",
      "include_colab_link": true
    },
    "kernelspec": {
      "name": "python3",
      "display_name": "Python 3"
    },
    "language_info": {
      "name": "python"
    }
  },
  "cells": [
    {
      "cell_type": "markdown",
      "metadata": {
        "id": "view-in-github",
        "colab_type": "text"
      },
      "source": [
        "<a href=\"https://colab.research.google.com/github/gpasky/MAT-421/blob/main/ModE.ipynb\" target=\"_parent\"><img src=\"https://colab.research.google.com/assets/colab-badge.svg\" alt=\"Open In Colab\"/></a>"
      ]
    },
    {
      "cell_type": "markdown",
      "source": [
        "**3.2 Continuity and Differentiation**\n",
        "\n",
        "3.2.1\n",
        "Limits and Continuity:\n",
        "\n",
        "The Euclidean norm measures the distance from the origin to x:\n",
        "\n",
        "*   $||x||=\\sqrt{\\sum_{i=1}^{d}}x_{i}^{2}$ for $x=(x_1,..,x_d)^T∈\\mathbb{R}^d$\n",
        "\n",
        "Ex:\n",
        "To find the Euclidean norm for x = (1,2), use the Pythoagorean Theorem\n",
        "$||x||=\\sqrt{1^2+2^2}=\\sqrt{5}$\n",
        "\n",
        "So, $\\sqrt{5}$ is the distance from the origin for x = (1,2)"
      ],
      "metadata": {
        "id": "qmC8ko1OEKrQ"
      }
    },
    {
      "cell_type": "markdown",
      "source": [
        "The open r-ball centered at $x∈\\mathbb{R}^d$ is y set of points within Euclidean distance r of x:\n",
        "*   $B_r(x)=y\\in\\mathbb{R}:||y-x||<r$\n",
        "\n",
        "1.   Set A is closed if it contains all its limit points. [0,1]\n",
        "2.   Set A is open if there exists a $B_r(x)⊆A$ for all $x∈A$\n",
        "3.   Set $A⊆\\mathbb{R}^d$ is bounded if there exists an r > 0 such that $A⊆B_r(0)$, given the origin $0=(0,...,0)^T$"
      ],
      "metadata": {
        "id": "xTZpUcTpUQZ4"
      }
    },
    {
      "cell_type": "markdown",
      "source": [
        "The limit of a function is its value attained as the input approaches a number.\n",
        "\n",
        "*   For a function $f : D ⟶ \\mathbb{R}$ on $D⊆\\mathbb{R}^d$, there is a limit $L⊆\\mathbb{R}$ as x approaches a if:\n",
        "\n",
        "$∀ϵ>0$,$∃$ a $δ>0$  s.t. $|f(x)-L|<ϵ$ for all $x∈D$ ∩ $B_Δ(a)$\\ {a}\n",
        "\n",
        "Which is equivalent to: $\\lim_{x\\to a}f(x)=L$"
      ],
      "metadata": {
        "id": "yNKeMpojUAdU"
      }
    },
    {
      "cell_type": "markdown",
      "source": [
        "A continous function does not contain any discontinuities (changes in value):\n",
        "\n",
        "\n",
        "\n",
        "*   For  a function $f : D ⟶ \\mathbb{R}$ on $D⊆\\mathbb{R}^d$, f is continuous at $a∈D$ if\n",
        "\n",
        "   $\\lim_{x\\to a}f(x)=f(a)$\n",
        "\n",
        "An example of a continuous $(x^4+x-3)$ and a discontinuous function $(\\frac{1}{x^2})$ can be made:"
      ],
      "metadata": {
        "id": "EajhKNxqUShV"
      }
    },
    {
      "cell_type": "code",
      "source": [
        "import numpy as np\n",
        "import matplotlib.pyplot as plt\n",
        "\n",
        "x = np.linspace(-2,2,50)\n",
        "f1 = 1/x**2\n",
        "f2 = x**4 + x - 3\n",
        "plt.figure\n",
        "plt.plot(x,f1,'r')\n",
        "plt.plot(x,f2,'k')"
      ],
      "metadata": {
        "colab": {
          "base_uri": "https://localhost:8080/",
          "height": 447
        },
        "id": "PNMNRYB8WXz2",
        "outputId": "8c5b5201-ed09-4e0d-e91e-99f9b5855d37"
      },
      "execution_count": 12,
      "outputs": [
        {
          "output_type": "execute_result",
          "data": {
            "text/plain": [
              "[<matplotlib.lines.Line2D at 0x7921636fc450>]"
            ]
          },
          "metadata": {},
          "execution_count": 12
        },
        {
          "output_type": "display_data",
          "data": {
            "text/plain": [
              "<Figure size 640x480 with 1 Axes>"
            ],
            "image/png": "[encoded data removed]"
          },
          "metadata": {}
        }
      ]
    },
    {
      "cell_type": "markdown",
      "source": [
        "An extremum is any point where the function value is at its maximum or minimum. This is otherwise known as an extreme value.\n",
        "\n",
        "*   For a function $f : D ⟶ \\mathbb{R}$ on $D⊆\\mathbb{R}^d$, f attains a maximum value $M$ at $z*$ if $f(z*)=m$ and $M\\ge f(x)$ for all $x∈D$. The function f also attains a minimum value at $z_*$ if $f(z_*)=m$ and $m\\le f(x)$ for all $x∈D$."
      ],
      "metadata": {
        "id": "ATn50dM0rH8l"
      }
    },
    {
      "cell_type": "markdown",
      "source": [
        "3.2.2 Derivatives:\n",
        "For a function $f : D ⟶ \\mathbb{R}$ on $D⊆\\mathbb{R}$ and $x_0∈D$ be an interior point  of D:\n",
        "\n",
        "*   $f'(x_0)=\\frac{df(x_0)}{dx}=\\lim_{h\\to 0}\\frac{f(x_0+h)-f(x_0)}{h}$, given that the limit exists\n",
        "\n",
        "The derivative measures the rate of change of a function at a given point. This process is called differentiation which is a linear operator due to its behavior.\n",
        "\n",
        "An example of a derivative of a function:"
      ],
      "metadata": {
        "id": "zcCEkWzEL3HC"
      }
    },
    {
      "cell_type": "code",
      "source": [
        "from sympy import *\n",
        "import numpy as np\n",
        "\n",
        "x = Symbol('x')\n",
        "y = x**3 + 2\n",
        "yprime = y.diff(x)\n",
        "yprime"
      ],
      "metadata": {
        "colab": {
          "base_uri": "https://localhost:8080/",
          "height": 38
        },
        "id": "7j8OdkJfWYFG",
        "outputId": "d3e44388-2024-4c21-9ea9-e83ed48b23aa"
      },
      "execution_count": 13,
      "outputs": [
        {
          "output_type": "execute_result",
          "data": {
            "text/plain": [
              "3*x**2"
            ],
            "text/latex": "$\\displaystyle 3 x^{2}$"
          },
          "metadata": {},
          "execution_count": 13
        }
      ]
    },
    {
      "cell_type": "markdown",
      "source": [
        "Rolle's Theorem: Given a continuous function $f:[a,b]⟶\\mathbb{R}$with a derivative that exists on $(a,b)$. If $f(a)=f(b)$, then there is $a<c<b$ such that $f'(c)=0$.\n",
        "\n",
        "Mean value Theorem:\n",
        "Given a continuous function $f:[a,b]⟶\\mathbb{R}$with a derivative that exists on $(a,b)$. Then there is $a<c<b$ such that:\n",
        "\n",
        "*   $f'(c)=\\frac{f(b)-f(a)}{b-a}$"
      ],
      "metadata": {
        "id": "VXz0hqhVW6Df"
      }
    },
    {
      "cell_type": "markdown",
      "source": [
        "Partial Derivative: For a function $f : D⟶\\mathbb{R}$ where $D⊆\\mathbb{R}^d$ and $x_0∈D$, an interior point of D. The partial derivative of f at $x_0$ with respect to $x_i$ is:\n",
        "\n",
        "\n",
        "*   $\\frac{∂f(x_0)}{∂x_i}=\\lim{h\\to 0}\\frac{f(x_0+he_i)-f(x_0)}{h}$\n",
        "\n",
        "given that the limit exists.\n",
        "\n",
        "In this case, the partial derivative measures the rate of chang of the function f with respect to $x_i$ holding everything else constant."
      ],
      "metadata": {
        "id": "_-M0j_y9fTP1"
      }
    },
    {
      "cell_type": "code",
      "source": [
        "import numpy as np\n",
        "from sympy.abc import x,y,z\n",
        "init_printing()\n",
        "\n",
        "F = x**3 + 2*y**2 + 5*z\n",
        "Fx = diff(F,x)\n",
        "Fy = diff(F,y)\n",
        "Fz = diff(F,z)\n",
        "\n",
        "print(\"Partial w.r.t. x = \",Fx)\n",
        "print(\"Partial w.r.t. y = \",Fy)\n",
        "print(\"Partial w.r.t. z = \",Fz)"
      ],
      "metadata": {
        "colab": {
          "base_uri": "https://localhost:8080/"
        },
        "id": "mMjgvRQ2iG3s",
        "outputId": "77f321ce-f106-4112-941c-03a858e9ed67"
      },
      "execution_count": 15,
      "outputs": [
        {
          "output_type": "stream",
          "name": "stdout",
          "text": [
            "Partial w.r.t. x =  3*x**2\n",
            "Partial w.r.t. y =  4*y\n",
            "Partial w.r.t. z =  5\n"
          ]
        }
      ]
    },
    {
      "cell_type": "markdown",
      "source": [
        "3.2.3 Taylor's Theorem\n",
        "\n",
        "For a function $f : D⟶\\mathbb{R}$ where $D⊆\\mathbb{R}$. Suppose f has  a m times continuous derivative on [a,b]. Then:\n",
        "\n",
        "$f(b)=f(a)+(b-a)f'(a)+\\frac{1}{2}(b-a)^2f''(a)+...+\\frac{(b-a)^{m-1}}{(m-1)!}f^{m-1}(a)+R_m$, where $R_m=\\frac{(b-a)^m}{(m)!}f^m(a+θ(b-a))$ for some $0<θ<1$.\n",
        "\n",
        "This theorem approximates a k-times differentiable function near a given point by a polynomial of degree k. There are both linear and quadratic approximations."
      ],
      "metadata": {
        "id": "E6SVFi8lkuM0"
      }
    },
    {
      "cell_type": "markdown",
      "source": [
        "**3.3 optimization with gradient descent**\n",
        "\n",
        "The gradient descent algorithm finds local minimum of a differentiable function.\n",
        "\n",
        "For a continuously differentiable function $f : \\mathbb{R}^d⟶\\mathbb{R}$, we use unconstrained minimization problems:\n",
        "\n",
        "*   $min_{x\\in\\mathbb{R}^d}f(x)$\n",
        "\n",
        "Ways to find minimizers:\n",
        "\n",
        "\n",
        "1.   Gradient Descent: iteratively updates x to get to smaller function values\n",
        "2.   Find stationary points of f: choose x's such that $Δf(x)=0$ and then choose the x that produces the smallest value of f(x)\n",
        "\n",
        "Example of gradient descent with linear regression:"
      ],
      "metadata": {
        "id": "Iy4rYEderA18"
      }
    },
    {
      "cell_type": "code",
      "source": [
        "import numpy as np\n",
        "import matplotlib.pyplot as plt\n",
        "import sklearn.linear_model as lm\n",
        "\n",
        "X = np.random.rand(20)\n",
        "y = np.random.rand(20)\n",
        "\n",
        "model = lm.LinearRegression()\n",
        "\n",
        "model.fit(X.reshape(-1,1),y)\n",
        "\n",
        "m = 0\n",
        "b = 0\n",
        "lr = 0.1\n",
        "\n",
        "for i in range(100):\n",
        "  y_pred = m * X + b\n",
        "  pd_b = (1/20) * sum(y_pred - y)\n",
        "  pd_m = (1/20) * sum((y_pred - y) * X)\n",
        "  b = b - lr * pd_b\n",
        "  m = m - lr * pd_m\n",
        "plt.figure()\n",
        "plt.scatter(X,y,color='blue')\n",
        "plt.scatter(X,model.coef_ * X + model.intercept_,color='red')\n",
        "plt.title('Actual Data')\n",
        "plt.show()\n",
        "\n",
        "plt.figure()\n",
        "plt.scatter(X,y,color='blue')\n",
        "plt.scatter(X,y_pred,color='red')\n",
        "plt.title('Gradient Descent')\n",
        "plt.show()"
      ],
      "metadata": {
        "colab": {
          "base_uri": "https://localhost:8080/",
          "height": 887
        },
        "id": "nGnnrljVynjr",
        "outputId": "aac10aa3-9e84-45ed-8f63-b147b71649b8"
      },
      "execution_count": 30,
      "outputs": [
        {
          "output_type": "display_data",
          "data": {
            "text/plain": [
              "<Figure size 640x480 with 1 Axes>"
            ],
            "image/png": "[encoded data removed]"
          },
          "metadata": {}
        },
        {
          "output_type": "display_data",
          "data": {
            "text/plain": [
              "<Figure size 640x480 with 1 Axes>"
            ],
            "image/png": "[encoded data removed]"
          },
          "metadata": {}
        }
      ]
    }
  ]
}