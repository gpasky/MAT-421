{
  "nbformat": 4,
  "nbformat_minor": 0,
  "metadata": {
    "colab": {
      "provenance": [],
      "authorship_tag": "ABX9TyOtfWURKwSIsyB2fQG2TGNo",
      "include_colab_link": true
    },
    "kernelspec": {
      "name": "python3",
      "display_name": "Python 3"
    },
    "language_info": {
      "name": "python"
    }
  },
  "cells": [
    {
      "cell_type": "markdown",
      "metadata": {
        "id": "view-in-github",
        "colab_type": "text"
      },
      "source": [
        "<a href=\"https://colab.research.google.com/github/gpasky/MAT-421/blob/main/ModG.ipynb\" target=\"_parent\"><img src=\"https://colab.research.google.com/assets/colab-badge.svg\" alt=\"Open In Colab\"/></a>"
      ]
    },
    {
      "cell_type": "markdown",
      "source": [
        "Gabriel Pascual"
      ],
      "metadata": {
        "id": "3zf3QFuFCjsl"
      }
    },
    {
      "cell_type": "markdown",
      "source": [
        "**21.1 Numerical Integration Problem Statement**\n",
        "\n",
        "For a given function $f(x)$, we find the approximation of the integral of the interval [a,b]\n",
        "\n",
        "\n",
        "*   Assume the interval is a grid with $n+1$ points and spacing $h=\\frac{b-a}{n}$\n",
        "*   The subinterval is $[x_i,x_{i+1}]$\n",
        "\n",
        "We use various methods to approximate the area under $f(x)$ to then compute and sum up the areas of each interval\n",
        "\n",
        "We can create an example of integration between points 1 and 2."
      ],
      "metadata": {
        "id": "5WykHN-W5Uwy"
      }
    },
    {
      "cell_type": "code",
      "source": [
        "from scipy.integrate import quad\n",
        "\n",
        "def f(x):\n",
        "  return x**2 + 3\n",
        "\n",
        "result = quad(f,1,2)\n",
        "print(result)\n"
      ],
      "metadata": {
        "colab": {
          "base_uri": "https://localhost:8080/"
        },
        "id": "4TdhFXg1rlSK",
        "outputId": "f5424964-6fbd-49b7-8a13-3e90ea14a798"
      },
      "execution_count": 1,
      "outputs": [
        {
          "output_type": "stream",
          "name": "stdout",
          "text": [
            "(5.333333333333333, 5.921189464667501e-14)\n"
          ]
        }
      ]
    },
    {
      "cell_type": "markdown",
      "source": [
        "**21.2 Riemann's Integral**\n"
      ],
      "metadata": {
        "id": "BWJqsdessU2I"
      }
    },
    {
      "cell_type": "markdown",
      "source": [
        "We can approximate integrals by summing up the area of rectangles for subintervals where the width of each rectangle is $x_{i+1} - x_i = h$\n",
        "\n",
        "*   The height an be the left endpoint, $x_i$, or the right endpoint, $x_{i+1}$ to give the Riemann Integral:\n",
        "\n",
        "$\\ \\int_{a}^{b} f(x)\\,dx ≈ \\sum_{i=0}^{n-1}hf(x_i)$ (Left Riemann Sum)\n",
        "\n",
        "$\\ \\int_{a}^{b} f(x)\\,dx ≈ \\sum_{i=1}^{n}hf(x_i)$ (Right Riemann Sum)\n",
        "\n",
        "Midpoint Rule: $\\ \\int_{a}^{b} f(x)\\,dx ≈ \\sum_{i=0}^{n-1}hf(y_i)$\n",
        "\n",
        "We can approximate $\\int_{0}^{π}sin(x)dx$ with 10 spaced points:"
      ],
      "metadata": {
        "id": "PDWgvafc5rqm"
      }
    },
    {
      "cell_type": "code",
      "source": [
        "import numpy as np\n",
        "\n",
        "a = 0\n",
        "b = np.pi\n",
        "n = 10\n",
        "h = (b - a) / (n - 1)\n",
        "x = np.linspace(a, b, n)\n",
        "f = np.sin(x)\n",
        "\n",
        "I_riemannL = h * sum(f[:n-1])\n",
        "err_riemannR = 2 - I_riemannL\n",
        "I_riemannR = h * sum(f[1::])\n",
        "err_riemannR = 2 - I_riemannR\n",
        "\n",
        "I_mid = h * sum(np.sin((x[:n-1] \\\n",
        "        + x[1:])/2))\n",
        "err_mid = 2 - I_mid\n",
        "\n",
        "print(I_riemannL)\n",
        "print(err_riemannR)\n",
        "\n",
        "print(I_riemannR)\n",
        "print(err_riemannR)\n",
        "\n",
        "print(I_mid)\n",
        "print(err_mid)"
      ],
      "metadata": {
        "colab": {
          "base_uri": "https://localhost:8080/"
        },
        "id": "tHUznmkLthxR",
        "outputId": "b05fe938-505d-4cc4-bea7-2da784a029ae"
      },
      "execution_count": 1,
      "outputs": [
        {
          "output_type": "stream",
          "name": "stdout",
          "text": [
            "1.9796508112164832\n",
            "0.02034918878351677\n",
            "1.9796508112164832\n",
            "0.02034918878351677\n",
            "2.01019011595042\n",
            "-0.010190115950420076\n"
          ]
        }
      ]
    },
    {
      "cell_type": "markdown",
      "source": [
        "**21.3 Trapezoid Rule**"
      ],
      "metadata": {
        "id": "JsCWPpS0ur-d"
      }
    },
    {
      "cell_type": "markdown",
      "source": [
        "The Trapezoid Rule: fits a trapezoid in each subintervals and adds the areas of each one to approximate the integral.\n",
        "\n",
        "Trapezoid Rule Expression:\n",
        "\n",
        "$\\ \\int_{a}^{b} f(x)\\,dx ≈ \\sum_{i=0}^{n-1}h\\frac{f(x_i)+f(x_i+1)}{2}$\n",
        "\n",
        "We can create an example to approximate $\\int_{0}^{π}sin(x)dx$ with 10 spaced points:"
      ],
      "metadata": {
        "id": "JvCqEaGtALgB"
      }
    },
    {
      "cell_type": "code",
      "source": [
        "import numpy as np\n",
        "\n",
        "a = 0\n",
        "b = np.pi\n",
        "n = 10\n",
        "h = (b-a) / (n-1)\n",
        "x = np.linspace(a,b,n)\n",
        "f = np.sin(x)\n",
        "\n",
        "I_trap = (h/2) * (f[0] + \\\n",
        "          2 * sum(f[1:n-1]) + f[n-1])\n",
        "err_trap = 2 - I_trap\n",
        "\n",
        "print(I_trap)\n",
        "print(err_trap)"
      ],
      "metadata": {
        "colab": {
          "base_uri": "https://localhost:8080/"
        },
        "id": "zTXgjOVYB31I",
        "outputId": "f48da988-7b2d-41c2-9723-16c98896df30"
      },
      "execution_count": 2,
      "outputs": [
        {
          "output_type": "stream",
          "name": "stdout",
          "text": [
            "1.9796508112164832\n",
            "0.02034918878351677\n"
          ]
        }
      ]
    }
  ]
}