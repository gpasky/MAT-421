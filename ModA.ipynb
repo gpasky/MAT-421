{
  "nbformat": 4,
  "nbformat_minor": 0,
  "metadata": {
    "colab": {
      "provenance": [],
      "authorship_tag": "ABX9TyPxrTRDttx52SuFhW4cRc3D",
      "include_colab_link": true
    },
    "kernelspec": {
      "name": "python3",
      "display_name": "Python 3"
    },
    "language_info": {
      "name": "python"
    }
  },
  "cells": [
    {
      "cell_type": "markdown",
      "metadata": {
        "id": "view-in-github",
        "colab_type": "text"
      },
      "source": [
        "<a href=\"https://colab.research.google.com/github/gpasky/MAT-421/blob/main/ModA.ipynb\" target=\"_parent\"><img src=\"https://colab.research.google.com/assets/colab-badge.svg\" alt=\"Open In Colab\"/></a>"
      ]
    },
    {
      "cell_type": "markdown",
      "source": [
        "Gabriel Pascual"
      ],
      "metadata": {
        "id": "nuTubJmUNjhJ"
      }
    },
    {
      "cell_type": "markdown",
      "source": [
        "**9.1: Base-N and Binary**"
      ],
      "metadata": {
        "id": "LWODqyQ3Nyhm"
      }
    },
    {
      "cell_type": "markdown",
      "source": [
        "The decimal system uses base 10. With a Base-N decimal system, we can have various digits associated with a power of N based on N digits (0 to N)."
      ],
      "metadata": {
        "id": "iIdcn6ZWUt-l"
      }
    },
    {
      "cell_type": "code",
      "source": [
        "# Decimal expansion of 259.8 (base10)\n",
        "\n",
        "259.8 == 2*(10**2) + 5*(10**1) + 9*(10**0) + 8*(10**-1)"
      ],
      "metadata": {
        "colab": {
          "base_uri": "https://localhost:8080/"
        },
        "id": "TjfTOwTTbiRa",
        "outputId": "a16b0460-e44f-476a-e22f-837952d5d799"
      },
      "execution_count": null,
      "outputs": [
        {
          "output_type": "execute_result",
          "data": {
            "text/plain": [
              "True"
            ]
          },
          "metadata": {},
          "execution_count": 3
        }
      ]
    },
    {
      "cell_type": "markdown",
      "source": [
        "It can be shown that numbers from one base can be converted into its equal form in another base. Given 211 (base3), its base10 value is 22."
      ],
      "metadata": {
        "id": "6RmA_pHJef4i"
      }
    },
    {
      "cell_type": "code",
      "source": [
        "# Find the base10 value of 211 (base3)\n",
        "\n",
        "2*(3**2) + 1*(3**1) + 1*(3**0) == 22"
      ],
      "metadata": {
        "colab": {
          "base_uri": "https://localhost:8080/"
        },
        "id": "iz2WLFNagbe8",
        "outputId": "d4cb2a4a-897f-4fcf-e8f4-5da95526ee46"
      },
      "execution_count": null,
      "outputs": [
        {
          "output_type": "execute_result",
          "data": {
            "text/plain": [
              "True"
            ]
          },
          "metadata": {},
          "execution_count": 5
        }
      ]
    },
    {
      "cell_type": "markdown",
      "source": [
        "Binary is of base2 meaning it uses only 0 and 1 to represent numbers."
      ],
      "metadata": {
        "id": "WT0ZTfzrg39V"
      }
    },
    {
      "cell_type": "code",
      "source": [
        "# 22 in decimal can be converted into a binary number\n",
        "bin(22)"
      ],
      "metadata": {
        "id": "rJzd-tRujkjY",
        "colab": {
          "base_uri": "https://localhost:8080/",
          "height": 35
        },
        "outputId": "c26f302d-88a5-4286-f83e-31feec00c4c8"
      },
      "execution_count": null,
      "outputs": [
        {
          "output_type": "execute_result",
          "data": {
            "text/plain": [
              "'0b10110'"
            ],
            "application/vnd.google.colaboratory.intrinsic+json": {
              "type": "string"
            }
          },
          "metadata": {},
          "execution_count": 4
        }
      ]
    },
    {
      "cell_type": "code",
      "source": [
        "# 58 in decimal can be converted into a binary number\n",
        "bin(58)"
      ],
      "metadata": {
        "colab": {
          "base_uri": "https://localhost:8080/",
          "height": 35
        },
        "id": "6FT_xWkKQQZr",
        "outputId": "120c20d2-ccdc-46c0-bf8a-ec133c413060"
      },
      "execution_count": null,
      "outputs": [
        {
          "output_type": "execute_result",
          "data": {
            "text/plain": [
              "'0b111010'"
            ],
            "application/vnd.google.colaboratory.intrinsic+json": {
              "type": "string"
            }
          },
          "metadata": {},
          "execution_count": 6
        }
      ]
    },
    {
      "cell_type": "code",
      "source": [
        "# This can also be proven analytically\n",
        "22 == 1*(2**4) + 0*(2**3) + 1*(2**2) + 1*(2**1) + 0*(2**0)"
      ],
      "metadata": {
        "colab": {
          "base_uri": "https://localhost:8080/"
        },
        "id": "ixmWefMqJ04Q",
        "outputId": "b3574514-ea35-41bc-aa75-f80eb11138d0"
      },
      "execution_count": null,
      "outputs": [
        {
          "output_type": "execute_result",
          "data": {
            "text/plain": [
              "True"
            ]
          },
          "metadata": {},
          "execution_count": 5
        }
      ]
    },
    {
      "cell_type": "code",
      "source": [
        "58 == 1*(2**5) + 1*(2**4) + 1*(2**3) + 0*(2**2) + 1*(2**1) + 0*(2**0)"
      ],
      "metadata": {
        "colab": {
          "base_uri": "https://localhost:8080/"
        },
        "id": "9AObqBFdLqmB",
        "outputId": "7d2e771a-5efb-4971-9b3b-662ff3979831"
      },
      "execution_count": null,
      "outputs": [
        {
          "output_type": "execute_result",
          "data": {
            "text/plain": [
              "True"
            ]
          },
          "metadata": {},
          "execution_count": 7
        }
      ]
    },
    {
      "cell_type": "markdown",
      "source": [
        "These binary numbers can be added and multiplied."
      ],
      "metadata": {
        "id": "Sgiir_FnRcvn"
      }
    },
    {
      "cell_type": "code",
      "source": [
        "bin22 = bin(22)\n",
        "bin58 = bin(58)\n",
        "print(bin22,bin58)\n"
      ],
      "metadata": {
        "colab": {
          "base_uri": "https://localhost:8080/"
        },
        "id": "psRugb8ERgRf",
        "outputId": "8c08f5e6-04ca-4372-e0c2-469c49438751"
      },
      "execution_count": null,
      "outputs": [
        {
          "output_type": "stream",
          "name": "stdout",
          "text": [
            "0b10110 0b111010\n"
          ]
        }
      ]
    },
    {
      "cell_type": "markdown",
      "source": [
        "Addition:"
      ],
      "metadata": {
        "id": "MZ08oqE4gYOu"
      }
    },
    {
      "cell_type": "code",
      "source": [
        "# bin22 = 0b10110 and bin58 = 0b111010\n",
        "result = 0b10110 + 0b111010\n",
        "print(result) #22 + 58 = 80(base10)\n",
        "print(bin(result)) #bin(80) = 0b1010000\n",
        "bin(80) == bin(result) #verify binary result of addition"
      ],
      "metadata": {
        "colab": {
          "base_uri": "https://localhost:8080/"
        },
        "id": "cVlFOFRYgiFC",
        "outputId": "6c762d71-657d-4921-c862-2ee198cdc958"
      },
      "execution_count": null,
      "outputs": [
        {
          "output_type": "stream",
          "name": "stdout",
          "text": [
            "80\n",
            "0b1010000\n"
          ]
        },
        {
          "output_type": "execute_result",
          "data": {
            "text/plain": [
              "True"
            ]
          },
          "metadata": {},
          "execution_count": 17
        }
      ]
    },
    {
      "cell_type": "markdown",
      "source": [
        "Multiplication:"
      ],
      "metadata": {
        "id": "VSYtjndXgjt9"
      }
    },
    {
      "cell_type": "code",
      "source": [
        "# bin22 = 0b10110 and bin58 = 0b111010\n",
        "result = 0b10110 * 0b111010\n",
        "print(result) #22 * 58 = 1276(base10)\n",
        "print(bin(result)) #bin(1276) = 0b10011111100\n",
        "bin(1276) == bin(result) #verify binary result of multiplication"
      ],
      "metadata": {
        "colab": {
          "base_uri": "https://localhost:8080/"
        },
        "id": "f2UmSnHeglJR",
        "outputId": "f379ef70-b946-4a8c-838e-e4f02691ebcd"
      },
      "execution_count": null,
      "outputs": [
        {
          "output_type": "stream",
          "name": "stdout",
          "text": [
            "1276\n",
            "0b10011111100\n"
          ]
        },
        {
          "output_type": "execute_result",
          "data": {
            "text/plain": [
              "True"
            ]
          },
          "metadata": {},
          "execution_count": 19
        }
      ]
    },
    {
      "cell_type": "markdown",
      "source": [
        "**9.2 Floating Point Numbers**"
      ],
      "metadata": {
        "id": "6J9F-pnUiIEU"
      }
    },
    {
      "cell_type": "markdown",
      "source": [
        "Floating point numbers use the same number of bits used in binary.\n",
        "\n",
        "The bits are represented into three parts:\n",
        "\n",
        "1.   s: sign indicator(+/-), 1 bit\n",
        "2.   e: characteristic/exponent(power of 2), 11 bits\n",
        "3.   f: fraction(coefficient of the exponent), 52 bits\n",
        "\n",
        "\n",
        "Bias: the result from normalizing (subtracting 1023 from the exponent).\n",
        "\n",
        "Float representation: n = (-1)^s*2^(e-1023)*(1+f)"
      ],
      "metadata": {
        "id": "AcKQgJamiM6l"
      }
    },
    {
      "cell_type": "markdown",
      "source": [
        "We can convert from a decimal to a floating point number."
      ],
      "metadata": {
        "id": "7WIE6FGwVdTO"
      }
    },
    {
      "cell_type": "code",
      "source": [
        "# Let's convert 48 into a floating point number\n",
        "\n",
        "# Positive number so s = 0\n",
        "\n",
        "# The largest power of two for 48 is 5\n",
        "# 5 + 1023 = 1028(base10)\n",
        "print(\"1028 in binary: \" + bin(1028)) # bin(1028) = 10000000100\n",
        "\n",
        "# The fraction is 48/32 - 1 = 0.5\n",
        "# 0.5(base10) = 1*(1/2^1) + 0*(1/2^2) + 0*(1/2^3) + 0*(1/2^4) + 0*(1/2^5) = 1000000000000000000000000000000000000000000000000000(base2)\n",
        "\n",
        "# Putting everything together we find the floating point number\n",
        "print(\"48(base10) = 0 10000000100 1000000000000000000000000000000000000000000000000000(IEE754)\")\n"
      ],
      "metadata": {
        "colab": {
          "base_uri": "https://localhost:8080/"
        },
        "id": "eAaEUUq8nruM",
        "outputId": "94920853-fd6b-401e-f825-ca7ec80f21e5"
      },
      "execution_count": 4,
      "outputs": [
        {
          "output_type": "stream",
          "name": "stdout",
          "text": [
            "1028 in binary: 0b10000000100\n",
            "48(base10) = 0 10000000100 1000000000000000000000000000000000000000000000000000(IEE754)\n"
          ]
        }
      ]
    },
    {
      "cell_type": "markdown",
      "source": [
        "This IEE754 number represents all the real numbers (smallest and largest) halfway between the neighbors of 48.\n",
        "\n",
        "The gap is defined as the distance between two numbers. This gap increases with the number since fraction * 2^(e-1023)"
      ],
      "metadata": {
        "id": "jHTdltEuV8pY"
      }
    },
    {
      "cell_type": "code",
      "source": [
        "import numpy as np # Used to compute the gap\n",
        "np.spacing(48) # Finds the next largest number"
      ],
      "metadata": {
        "colab": {
          "base_uri": "https://localhost:8080/"
        },
        "id": "-z2jaeGcWEKL",
        "outputId": "231493e6-46c6-4a13-ea7f-d4cb923896c2"
      },
      "execution_count": 5,
      "outputs": [
        {
          "output_type": "execute_result",
          "data": {
            "text/plain": [
              "7.105427357601002e-15"
            ]
          },
          "metadata": {},
          "execution_count": 5
        }
      ]
    },
    {
      "cell_type": "code",
      "source": [
        "48 == (48 + np.spacing(48)/3) # Adding a fraction of 1/3 spacing gives the same number as 48"
      ],
      "metadata": {
        "colab": {
          "base_uri": "https://localhost:8080/"
        },
        "id": "l9WO43gxernw",
        "outputId": "68c97e88-7280-48e6-e822-1bafa33db524"
      },
      "execution_count": 6,
      "outputs": [
        {
          "output_type": "execute_result",
          "data": {
            "text/plain": [
              "True"
            ]
          },
          "metadata": {},
          "execution_count": 6
        }
      ]
    },
    {
      "cell_type": "markdown",
      "source": [
        "Overflow occurs for numbers larger than the largest floating point number and underflow occurs for numbers smaller than the smallest floating point number."
      ],
      "metadata": {
        "id": "waQUALfIQ110"
      }
    },
    {
      "cell_type": "code",
      "source": [
        "import sys # Gives float information\n",
        "sys.float_info\n",
        "sys.float_info.max == sys.float_info.max + 10 # There is not enough precision to store +10 so the 64 bits remain the same"
      ],
      "metadata": {
        "colab": {
          "base_uri": "https://localhost:8080/"
        },
        "id": "q2_MFt0lWqLn",
        "outputId": "0f4f956b-a852-4156-f387-2a6f39476b90"
      },
      "execution_count": 13,
      "outputs": [
        {
          "output_type": "execute_result",
          "data": {
            "text/plain": [
              "True"
            ]
          },
          "metadata": {},
          "execution_count": 13
        }
      ]
    },
    {
      "cell_type": "code",
      "source": [
        "sys.float_info.max + sys.float_info.max # Adding another 64 bits results in overflow"
      ],
      "metadata": {
        "colab": {
          "base_uri": "https://localhost:8080/"
        },
        "id": "nvXg-HpKYrT3",
        "outputId": "bbfb8a4d-e54a-41d9-9a40-cf0dcfc7d89e"
      },
      "execution_count": 12,
      "outputs": [
        {
          "output_type": "execute_result",
          "data": {
            "text/plain": [
              "inf"
            ]
          },
          "metadata": {},
          "execution_count": 12
        }
      ]
    },
    {
      "cell_type": "markdown",
      "source": [
        "The subnormal number (when e = 0) at which underflow occurs is given by (-1)^0 * 2^(1-1023) * 2^-52 = 2^-1074."
      ],
      "metadata": {
        "id": "--ovty-BY1w-"
      }
    },
    {
      "cell_type": "code",
      "source": [
        "print(\"Smallest subnormal number: \" + str(2**(-1075)))\n",
        "print(\"Verify equality to 0: \" + str(2**(-1075) == 0))\n",
        "print(\"The next subnormal number above the smallest: \" + str(2**(-1074)))"
      ],
      "metadata": {
        "colab": {
          "base_uri": "https://localhost:8080/"
        },
        "id": "6u5TS4ZfbBh3",
        "outputId": "07788d59-9d94-41ae-8db0-7c6452ce8d13"
      },
      "execution_count": 15,
      "outputs": [
        {
          "output_type": "stream",
          "name": "stdout",
          "text": [
            "Smallest subnormal number: 0.0\n",
            "Verify equality to 0: True\n",
            "The next subnormal number above the smallest: 5e-324\n"
          ]
        }
      ]
    },
    {
      "cell_type": "markdown",
      "source": [
        "**9.3 Round-off Errors**"
      ],
      "metadata": {
        "id": "kXUp9o7MiIvl"
      }
    },
    {
      "cell_type": "markdown",
      "source": [
        "The round-off error is the difference between the true value and its approximation. Floating point cannot represent the exact number as it is an approximation\n",
        "\n",
        "Examples:"
      ],
      "metadata": {
        "id": "BNVo4jOLcPpw"
      }
    },
    {
      "cell_type": "code",
      "source": [
        "# Addition round-off errors\n",
        "5.6 - 3.682 == 1.918"
      ],
      "metadata": {
        "colab": {
          "base_uri": "https://localhost:8080/"
        },
        "id": "zlZXWJ6aiT1e",
        "outputId": "17495d0c-5c31-4008-ab89-a93dbd9bf5c0"
      },
      "execution_count": 16,
      "outputs": [
        {
          "output_type": "execute_result",
          "data": {
            "text/plain": [
              "False"
            ]
          },
          "metadata": {},
          "execution_count": 16
        }
      ]
    },
    {
      "cell_type": "code",
      "source": [
        "5.6 - 3.682 # A small error occurs when subtracting with approximations"
      ],
      "metadata": {
        "colab": {
          "base_uri": "https://localhost:8080/"
        },
        "id": "vrXp-L1ujips",
        "outputId": "863a1b65-70e4-425c-b6ef-a1053b449b0c"
      },
      "execution_count": 17,
      "outputs": [
        {
          "output_type": "execute_result",
          "data": {
            "text/plain": [
              "1.9179999999999997"
            ]
          },
          "metadata": {},
          "execution_count": 17
        }
      ]
    },
    {
      "cell_type": "code",
      "source": [
        "0.16 + 0.3 + 0.18 == 0.64 # A small error occurs when adding with approximations"
      ],
      "metadata": {
        "colab": {
          "base_uri": "https://localhost:8080/"
        },
        "id": "z8hZOVePkuPB",
        "outputId": "239eed4e-0878-429d-8517-6b0e10f31d9f"
      },
      "execution_count": 22,
      "outputs": [
        {
          "output_type": "execute_result",
          "data": {
            "text/plain": [
              "False"
            ]
          },
          "metadata": {},
          "execution_count": 22
        }
      ]
    },
    {
      "cell_type": "code",
      "source": [
        "round(0.16 + 0.3 + 0.18,2) == round(0.64,2) # Use round to add rounded values together"
      ],
      "metadata": {
        "colab": {
          "base_uri": "https://localhost:8080/"
        },
        "id": "BmFnIrERl72q",
        "outputId": "b1cb5272-f4b2-4fd3-aff5-4198e4d00d4a"
      },
      "execution_count": 23,
      "outputs": [
        {
          "output_type": "execute_result",
          "data": {
            "text/plain": [
              "True"
            ]
          },
          "metadata": {},
          "execution_count": 23
        }
      ]
    },
    {
      "cell_type": "markdown",
      "source": [
        "An accumulation of round-off errors occur when adding then subtracting a number to get the same number.\n",
        "\n",
        "Examples:"
      ],
      "metadata": {
        "id": "Wz8D70JTm1fK"
      }
    },
    {
      "cell_type": "code",
      "source": [
        "1 + 1/4 - 1/4 # For 1 iteration we get the expected solution - 1.0"
      ],
      "metadata": {
        "colab": {
          "base_uri": "https://localhost:8080/"
        },
        "id": "pB7WadznnHvf",
        "outputId": "189751b5-975c-422c-821c-c0f772745c89"
      },
      "execution_count": 45,
      "outputs": [
        {
          "output_type": "execute_result",
          "data": {
            "text/plain": [
              "1.0"
            ]
          },
          "metadata": {},
          "execution_count": 45
        }
      ]
    },
    {
      "cell_type": "code",
      "source": [
        "def add_and_subtract(iterations):\n",
        "  result = 1\n",
        "\n",
        "  for i in range(iterations):\n",
        "    result += 1/4\n",
        "\n",
        "  for i in range(iterations):\n",
        "    result -= 1/4\n",
        "    return result\n",
        "\n",
        "add_and_subtract(2) # For more iterations there is an increase in error"
      ],
      "metadata": {
        "colab": {
          "base_uri": "https://localhost:8080/"
        },
        "id": "NXBskwUQnL75",
        "outputId": "940925e3-b384-48b4-b259-b2b37eb63061"
      },
      "execution_count": 48,
      "outputs": [
        {
          "output_type": "execute_result",
          "data": {
            "text/plain": [
              "1.25"
            ]
          },
          "metadata": {},
          "execution_count": 48
        }
      ]
    },
    {
      "cell_type": "code",
      "source": [
        "add_and_subtract(10) # For only 10 iterations, the error is increased by 2.25"
      ],
      "metadata": {
        "colab": {
          "base_uri": "https://localhost:8080/"
        },
        "id": "4_bhx_FUpuB3",
        "outputId": "353f437e-b577-4b4c-db52-874846551a50"
      },
      "execution_count": 49,
      "outputs": [
        {
          "output_type": "execute_result",
          "data": {
            "text/plain": [
              "3.25"
            ]
          },
          "metadata": {},
          "execution_count": 49
        }
      ]
    }
  ]
}