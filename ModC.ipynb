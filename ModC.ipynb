{
  "nbformat": 4,
  "nbformat_minor": 0,
  "metadata": {
    "colab": {
      "provenance": [],
      "authorship_tag": "ABX9TyPwx4WJ4D1rWP82f90UCbI3",
      "include_colab_link": true
    },
    "kernelspec": {
      "name": "python3",
      "display_name": "Python 3"
    },
    "language_info": {
      "name": "python"
    }
  },
  "cells": [
    {
      "cell_type": "markdown",
      "metadata": {
        "id": "view-in-github",
        "colab_type": "text"
      },
      "source": [
        "<a href=\"https://colab.research.google.com/github/gpasky/MAT-421/blob/main/ModC.ipynb\" target=\"_parent\"><img src=\"https://colab.research.google.com/assets/colab-badge.svg\" alt=\"Open In Colab\"/></a>"
      ]
    },
    {
      "cell_type": "markdown",
      "source": [
        "Gabriel Pascual"
      ],
      "metadata": {
        "id": "saa6pxpW6VmV"
      }
    },
    {
      "cell_type": "markdown",
      "source": [
        "**19.1 Root Finding Problem Statement**"
      ],
      "metadata": {
        "id": "xrGtJ7wP6XJI"
      }
    },
    {
      "cell_type": "markdown",
      "source": [
        "The root of a function, f(x), is an x_r s.t. f(x_r) = 0. By creating numerical approximation of the f roots, we can determine an analytic solution for the roots of complex functions."
      ],
      "metadata": {
        "id": "Q6SxuhhR6mPD"
      }
    },
    {
      "cell_type": "markdown",
      "source": [
        "We can verify whether a function has a root with an example using $f(x) = sin(x) - x^2$ near -4:"
      ],
      "metadata": {
        "id": "lmzECxZT7ve6"
      }
    },
    {
      "cell_type": "code",
      "source": [
        "import numpy as np\n",
        "from scipy import optimize\n",
        "\n",
        "f = lambda x: np.sin(x) - x**3\n",
        "r = optimize.fsolve(f, -4)\n",
        "print(\"r =\", r)\n",
        "\n",
        "result = f(r)\n",
        "print(\"result =\", result)"
      ],
      "metadata": {
        "colab": {
          "base_uri": "https://localhost:8080/"
        },
        "id": "PtA0ecqr7_Pt",
        "outputId": "55c8f0a5-212a-4daf-9ad9-2204e7bd163a"
      },
      "execution_count": null,
      "outputs": [
        {
          "output_type": "stream",
          "name": "stdout",
          "text": [
            "r = [-0.92862631]\n",
            "result = [0.]\n"
          ]
        }
      ]
    },
    {
      "cell_type": "markdown",
      "source": [
        "The results indicate that the root of f(x) = sin(x) - x is 0 which is a valid root."
      ],
      "metadata": {
        "id": "elVh3yg-8uyg"
      }
    },
    {
      "cell_type": "markdown",
      "source": [
        "We can also try to compute a root of a function that has no root such as $f(x) = \\frac{1}{x^3}$:"
      ],
      "metadata": {
        "id": "-uYZQPYx-QBB"
      }
    },
    {
      "cell_type": "code",
      "source": [
        "f = lambda x: 1/x**3\n",
        "\n",
        "r, infodict, ier, mesg = optimize.fsolve(f, -4, full_output=True)\n",
        "print(\"r =\", r)\n",
        "\n",
        "result = f(r)\n",
        "print(\"result =\", result)\n",
        "\n",
        "print(mesg)"
      ],
      "metadata": {
        "colab": {
          "base_uri": "https://localhost:8080/"
        },
        "id": "cmaZMo86_TIn",
        "outputId": "15f4da84-488d-4efa-c36a-1d791a25f7e3"
      },
      "execution_count": null,
      "outputs": [
        {
          "output_type": "stream",
          "name": "stdout",
          "text": [
            "r = [-1.27963584e+35]\n",
            "result = [-4.7724437e-106]\n",
            "The number of calls to function has reached maxfev = 400.\n"
          ]
        }
      ]
    },
    {
      "cell_type": "markdown",
      "source": [
        "Even though the generated value of r is small, it was not found to be a root. This means that the solution may have failed to converge."
      ],
      "metadata": {
        "id": "hVa1eCty_w-w"
      }
    },
    {
      "cell_type": "markdown",
      "source": [
        "**19.2 Tolerance**"
      ],
      "metadata": {
        "id": "5etk7uiDAWpz"
      }
    },
    {
      "cell_type": "markdown",
      "source": [
        "Tolerance is an acceptable level of error for an engineering application. If the solution has an error less than the tolerance, convergence occurs.\n",
        "\n",
        "Method for measuring error:\n",
        "\n",
        "* $|f(x)|$ in smaller values determines whether a root exists\n",
        "\n",
        "* $|x_{i+1}-x_i|$ for every ith guess. Smaller differences in errors may suggest convergence towards a solution\n",
        "\n"
      ],
      "metadata": {
        "id": "UC1SmDzGAazT"
      }
    },
    {
      "cell_type": "markdown",
      "source": [
        "**19.3 Bisection Method**"
      ],
      "metadata": {
        "id": "CzbZ9NZKjNPe"
      }
    },
    {
      "cell_type": "markdown",
      "source": [
        "Intermediate Value Theorem: There exists a c such that $a < c < b$ and f(c) = 0 given that the signs of $f(a)$ and $f(b)$ are not the same.\n",
        "\n",
        "Bisection Method: uses the intermediate value theorem to find roots iteratively throughout the continuous function, f(x). This is done using $m=\\frac{b+a}{2}$ as the midpoint between (a,b) given that f(a) is positive and f(b) is negative. If f(m) is positive, then a root exists at (m,b), if f(m) is negative, then a root exists at (a,m). This is repeated until we get a low error."
      ],
      "metadata": {
        "id": "fPjZfIz4jUZF"
      }
    },
    {
      "cell_type": "markdown",
      "source": [
        "An example can be made to show how this works to approximate the root of a function bounded by an interval within $|f(m)| < tolerance$"
      ],
      "metadata": {
        "id": "sldBlz6_noUf"
      }
    },
    {
      "cell_type": "code",
      "source": [
        "import numpy as np\n",
        "\n",
        "def my_bisection(f, a, b, tol):\n",
        "\n",
        "  # check if a root exists withing (a,b)\n",
        "  if np.sign(f(a)) == np.sign(f(b)):\n",
        "    raise Exception(\"The scalars a and b do not bound a root\")\n",
        "\n",
        "  # calculate the midpoint\n",
        "  m = (a + b) / 2\n",
        "\n",
        "  if np.abs(f(m)) < tol:\n",
        "    return m\n",
        "\n",
        "  #recursive updates for a and b\n",
        "  elif np.sign(f(a)) == np.sign(f(m)):\n",
        "\n",
        "    return my_bisection(f, m, b, tol)\n",
        "\n",
        "  elif np.sign(f(b)) == np.sign(f(m)):\n",
        "\n",
        "    return my_bisection(f, m, a, tol)\n",
        "\n",
        "#example for finding the root of function f(x) = x^2 - 3 at (0,3)\n",
        "\n",
        "f = lambda x: x**2 - 3\n",
        "\n",
        "r1 = my_bisection(f, 0, 3, 0.1)\n",
        "print(\"r1 =\", r1)\n",
        "r01 = my_bisection(f, 0, 3, 0.01)\n",
        "print(\"r01 =\", r01)\n",
        "\n",
        "print(\"f(r1) =\", f(r1))\n",
        "print(\"f(r01) =\", f(r01))\n"
      ],
      "metadata": {
        "colab": {
          "base_uri": "https://localhost:8080/"
        },
        "id": "rN_rvsjYnl_-",
        "outputId": "24e866e8-3614-4c96-aa9b-b33fc293c43b"
      },
      "execution_count": null,
      "outputs": [
        {
          "output_type": "stream",
          "name": "stdout",
          "text": [
            "r1 = 1.734375\n",
            "r01 = 1.734375\n",
            "f(r1) = 0.008056640625\n",
            "f(r01) = 0.008056640625\n"
          ]
        }
      ]
    },
    {
      "cell_type": "markdown",
      "source": [
        "**19.4 Newton-Raphson Method**"
      ],
      "metadata": {
        "id": "BMHFD7w3qURl"
      }
    },
    {
      "cell_type": "markdown",
      "source": [
        "The Newton-Raphson Method find roots by iterating newton steps which caclulates an improved guess, $x_i$, with the previous guess $x_{i-1}$\n",
        "\n",
        "Equation: $x_1=x_0-\\frac{g(x_{i-1})}{g'(x_{i-1})}$"
      ],
      "metadata": {
        "id": "kmi5u37cqaEn"
      }
    },
    {
      "cell_type": "markdown",
      "source": [
        "An example can be made to compare an approximation with the root of $f(x)=x^2-5$, which is $\\sqrt{5}$."
      ],
      "metadata": {
        "id": "Ts4eHtoq1_fy"
      }
    },
    {
      "cell_type": "code",
      "source": [
        "import numpy as np\n",
        "\n",
        "f = lambda x: x**2 - 5\n",
        "f_prime = lambda x: 2*x\n",
        "newton_raphson = 2.2 - (f(2.2))/(f_prime(2.2))\n",
        "\n",
        "print(\"newton_raphson =\", newton_raphson)\n",
        "print(\"sqrt(5) =\", np.sqrt(5))"
      ],
      "metadata": {
        "colab": {
          "base_uri": "https://localhost:8080/"
        },
        "id": "tQ3DmLEkOqYD",
        "outputId": "b63f4ade-7b28-4d03-9eb4-31363e1b3518"
      },
      "execution_count": 1,
      "outputs": [
        {
          "output_type": "stream",
          "name": "stdout",
          "text": [
            "newton_raphson = 2.2363636363636363\n",
            "sqrt(5) = 2.23606797749979\n"
          ]
        }
      ]
    },
    {
      "cell_type": "markdown",
      "source": [
        "**19.5 Root Finding in Python**"
      ],
      "metadata": {
        "id": "6VlPovi1PO_8"
      }
    },
    {
      "cell_type": "markdown",
      "source": [
        "Python uses the function f_solve to compute the root of a function using an initial guess.\n",
        "\n",
        "We will use the function $f(x)=x^3-50x^2-x+50$ with initial guess interval [2, 30]:"
      ],
      "metadata": {
        "id": "QN8bqslTPSZo"
      }
    },
    {
      "cell_type": "code",
      "source": [
        "from scipy.optimize import fsolve\n",
        "\n",
        "f = lambda x: x**3 - 50*x**2 - x + 50\n",
        "\n",
        "print(\"fsolve roots: \",fsolve(f, [2, 30]))"
      ],
      "metadata": {
        "colab": {
          "base_uri": "https://localhost:8080/"
        },
        "id": "TNX43DtnQgsJ",
        "outputId": "0ce860ef-5d5a-4e7f-d65d-68c81dc01a14"
      },
      "execution_count": 3,
      "outputs": [
        {
          "output_type": "stream",
          "name": "stdout",
          "text": [
            "fsolve roots:  [ 1. 50.]\n"
          ]
        }
      ]
    }
  ]
}